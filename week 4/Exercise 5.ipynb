{
 "cells": [
  {
   "cell_type": "markdown",
   "id": "c77d9449-b629-4512-9df7-7919841658e7",
   "metadata": {},
   "source": [
    "Exercise 5"
   ]
  },
  {
   "cell_type": "code",
   "execution_count": 1,
   "id": "ddd09292-ffbd-4481-9342-14ec782b3dab",
   "metadata": {},
   "outputs": [
    {
     "name": "stdout",
     "output_type": "stream",
     "text": [
      "Weather data sent!\n"
     ]
    }
   ],
   "source": [
    "import socket\n",
    "import requests\n",
    "\n",
    "# Fetch weather data\n",
    "api_url = \"https://api.open-meteo.com/v1/forecast?latitude=51.47&longitude=0.0363&current_weather=true\"\n",
    "response = requests.get(api_url)\n",
    "\n",
    "if response.status_code == 200:\n",
    "    weather_data = response.json()\n",
    "    temperature = weather_data[\"current_weather\"][\"temperature\"]\n",
    "    message = f\"Current temperature: {temperature}°C\"\n",
    "else:\n",
    "    message = \"Failed to fetch weather data\"\n",
    "\n",
    "# Send the weather data using UDP\n",
    "client_socket = socket.socket(socket.AF_INET, socket.SOCK_DGRAM)\n",
    "server_address = ('localhost', 65433)\n",
    "\n",
    "client_socket.sendto(message.encode(), server_address)\n",
    "print(\"Weather data sent!\")\n",
    "\n",
    "client_socket.close()"
   ]
  },
  {
   "cell_type": "code",
   "execution_count": 2,
   "id": "af0ecc66-2731-4b51-8b89-96557704a94a",
   "metadata": {},
   "outputs": [
    {
     "name": "stdout",
     "output_type": "stream",
     "text": [
      "Weather data sent!\n"
     ]
    }
   ],
   "source": [
    "import socket\n",
    "import requests\n",
    "\n",
    "# Fetch weather data\n",
    "api_url = \"https://api.open-meteo.com/v1/forecast?latitude=51.5243&longitude=-0.1228&current_weather=true\"\n",
    "response = requests.get(api_url)\n",
    "\n",
    "if response.status_code == 200:\n",
    "    weather_data = response.json()\n",
    "    temperature = weather_data[\"current_weather\"][\"temperature\"]\n",
    "    message = f\"Current temperature at the British Library: {temperature}°C\"\n",
    "else:\n",
    "    message = \"Failed to fetch weather data\"\n",
    "\n",
    "# Send the weather data using UDP\n",
    "client_socket = socket.socket(socket.AF_INET, socket.SOCK_DGRAM)\n",
    "server_address = ('localhost', 65433)\n",
    "\n",
    "client_socket.sendto(message.encode(), server_address)\n",
    "print(\"Weather data sent!\")\n",
    "\n",
    "client_socket.close()"
   ]
  },
  {
   "cell_type": "code",
   "execution_count": 3,
   "id": "52305d91-fdf5-447b-a18d-2052a6a06c01",
   "metadata": {},
   "outputs": [
    {
     "name": "stdout",
     "output_type": "stream",
     "text": [
      "Weather data sent!\n"
     ]
    }
   ],
   "source": [
    "import socket\n",
    "import requests\n",
    "\n",
    "# Fetch weather data\n",
    "api_url = \"https://api.open-meteo.com/v1/forecast?latitude=51.472713&longitude=-0.032755&current_weather=true\"\n",
    "response = requests.get(api_url)\n",
    "\n",
    "if response.status_code == 200:\n",
    "    weather_data = response.json()\n",
    "    temperature = weather_data[\"current_weather\"][\"temperature\"]\n",
    "    message = f\"Current temperature at Goldsmith University: {temperature}°C\"\n",
    "else:\n",
    "    message = \"Failed to fetch weather data\"\n",
    "\n",
    "# Send the weather data using UDP\n",
    "client_socket = socket.socket(socket.AF_INET, socket.SOCK_DGRAM)\n",
    "server_address = ('localhost', 65433)\n",
    "\n",
    "client_socket.sendto(message.encode(), server_address)\n",
    "print(\"Weather data sent!\")\n",
    "\n",
    "client_socket.close()"
   ]
  },
  {
   "cell_type": "code",
   "execution_count": null,
   "id": "cd1f5647-bc53-49cd-be4b-db2c10c572cb",
   "metadata": {},
   "outputs": [],
   "source": []
  }
 ],
 "metadata": {
  "kernelspec": {
   "display_name": "Python 3 (ipykernel)",
   "language": "python",
   "name": "python3"
  },
  "language_info": {
   "codemirror_mode": {
    "name": "ipython",
    "version": 3
   },
   "file_extension": ".py",
   "mimetype": "text/x-python",
   "name": "python",
   "nbconvert_exporter": "python",
   "pygments_lexer": "ipython3",
   "version": "3.12.3"
  }
 },
 "nbformat": 4,
 "nbformat_minor": 5
}
