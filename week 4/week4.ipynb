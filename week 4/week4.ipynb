{
 "cells": [
  {
   "cell_type": "markdown",
   "id": "d82b0772-70a6-448c-94e1-091cf0acf21f",
   "metadata": {},
   "source": [
    "Exercise 1"
   ]
  },
  {
   "cell_type": "code",
   "execution_count": null,
   "id": "2b42712f-38d9-4609-9b32-b97511a6dcc1",
   "metadata": {},
   "outputs": [
    {
     "name": "stdout",
     "output_type": "stream",
     "text": [
      "UDP Server is ready to receive API data...\n",
      "Received data from ('127.0.0.1', 64674): Hello, UDP Server!\n"
     ]
    }
   ],
   "source": [
    "import socket\n",
    "\n",
    "# Create a socket object using IPv4 and UDP\n",
    "server_socket = socket.socket(socket.AF_INET, socket.SOCK_DGRAM)\n",
    "\n",
    "# Bind the socket to localhost and port 65433\n",
    "server_socket.bind(('localhost', 65433))\n",
    "\n",
    "print(\"UDP Server is ready to receive API data...\")\n",
    "\n",
    "while True:\n",
    "    # Receive data from a client (maximum 2048 bytes)\n",
    "    data, client_address = server_socket.recvfrom(2048)\n",
    "    print(f\"Received data from {client_address}: {data.decode()}\")\n",
    "    "
   ]
  }
 ],
 "metadata": {
  "kernelspec": {
   "display_name": "Python 3 (ipykernel)",
   "language": "python",
   "name": "python3"
  },
  "language_info": {
   "codemirror_mode": {
    "name": "ipython",
    "version": 3
   },
   "file_extension": ".py",
   "mimetype": "text/x-python",
   "name": "python",
   "nbconvert_exporter": "python",
   "pygments_lexer": "ipython3",
   "version": "3.12.3"
  }
 },
 "nbformat": 4,
 "nbformat_minor": 5
}
