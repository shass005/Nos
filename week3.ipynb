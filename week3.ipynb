{
 "cells": [
  {
   "cell_type": "markdown",
   "id": "82e2764f-35fe-4a1b-940b-b0108e0471c1",
   "metadata": {},
   "source": [
    "Exercise 1"
   ]
  },
  {
   "cell_type": "code",
   "execution_count": 1,
   "id": "7cc5e13c-78a8-47a7-b79f-239c899fc881",
   "metadata": {},
   "outputs": [
    {
     "name": "stdout",
     "output_type": "stream",
     "text": [
      "Note: you may need to restart the kernel to use updated packages.\n"
     ]
    },
    {
     "name": "stderr",
     "output_type": "stream",
     "text": [
      "ERROR: Could not find a version that satisfies the requirement socket (from versions: none)\n",
      "ERROR: No matching distribution found for socket\n"
     ]
    }
   ],
   "source": [
    "pip install socket"
   ]
  },
  {
   "cell_type": "code",
   "execution_count": 7,
   "id": "7a421f67-5e58-4a86-9514-dcbbc5524c48",
   "metadata": {},
   "outputs": [
    {
     "name": "stdin",
     "output_type": "stream",
     "text": [
      "Enter the website URL (without 'https://'):  wikipedia.org\n"
     ]
    },
    {
     "name": "stdout",
     "output_type": "stream",
     "text": [
      "The IP address of wikipedia.org is 185.15.59.224\n"
     ]
    }
   ],
   "source": [
    "import socket\n",
    "\n",
    "def get_ip_address(website_url):\n",
    "    try:\n",
    "        ip_address = socket.gethostbyname(website_url)\n",
    "        print(f\"The IP address of {website_url} is {ip_address}\")\n",
    "    except socket.gaierror:\n",
    "        print(f\"Unable to get the IP address for {website_url}\")\n",
    "\n",
    "# Example usage\n",
    "website = input(\"Enter the website URL (without 'https://'): \")\n",
    "get_ip_address(website)\n"
   ]
  },
  {
   "cell_type": "code",
   "execution_count": 8,
   "id": "3866fb8f-aa4f-4f77-8ecd-2e89e1b61b61",
   "metadata": {},
   "outputs": [
    {
     "name": "stdin",
     "output_type": "stream",
     "text": [
      "Enter the website URL (without 'https://'):  youtube.com\n"
     ]
    },
    {
     "name": "stdout",
     "output_type": "stream",
     "text": [
      "The IP address of youtube.com is 142.250.200.14\n"
     ]
    }
   ],
   "source": [
    "import socket\n",
    "\n",
    "def get_ip_address(website_url):\n",
    "    try:\n",
    "        ip_address = socket.gethostbyname(website_url)\n",
    "        print(f\"The IP address of {website_url} is {ip_address}\")\n",
    "    except socket.gaierror:\n",
    "        print(f\"Unable to get the IP address for {website_url}\")\n",
    "\n",
    "# Example usage\n",
    "website = input(\"Enter the website URL (without 'https://'): \")\n",
    "get_ip_address(website)\n"
   ]
  },
  {
   "cell_type": "code",
   "execution_count": 9,
   "id": "3b07b648-6830-4507-b213-e5eab6418a4b",
   "metadata": {},
   "outputs": [
    {
     "name": "stdin",
     "output_type": "stream",
     "text": [
      "Enter the website URL (without 'https://'):  learn.gold.ac.uk\n"
     ]
    },
    {
     "name": "stdout",
     "output_type": "stream",
     "text": [
      "The IP address of learn.gold.ac.uk is 52.169.178.98\n"
     ]
    }
   ],
   "source": [
    "import socket\n",
    "\n",
    "def get_ip_address(website_url):\n",
    "    try:\n",
    "        ip_address = socket.gethostbyname(website_url)\n",
    "        print(f\"The IP address of {website_url} is {ip_address}\")\n",
    "    except socket.gaierror:\n",
    "        print(f\"Unable to get the IP address for {website_url}\")\n",
    "\n",
    "# Example usage\n",
    "website = input(\"Enter the website URL (without 'https://'): \")\n",
    "get_ip_address(website)\n"
   ]
  },
  {
   "cell_type": "markdown",
   "id": "53bb0d73-2371-4bd3-84e9-b8cffa966ef6",
   "metadata": {},
   "source": [
    "Exercise 2 & 3 & 4"
   ]
  },
  {
   "cell_type": "code",
   "execution_count": 14,
   "id": "003f91e5-b6bf-4532-b153-1db22dcc7381",
   "metadata": {},
   "outputs": [
    {
     "name": "stdin",
     "output_type": "stream",
     "text": [
      "Enter the website or IP address:  youtube.com\n"
     ]
    },
    {
     "name": "stdout",
     "output_type": "stream",
     "text": [
      "\n",
      "Tracing route to youtube.com [2a00:1450:4009:80a::200e]\n",
      "over a maximum of 30 hops:\n",
      "\n",
      "  1    10 ms     3 ms     3 ms  2a02:c7c:38c8:ec00::1 \n",
      "  2     *        *        *     Request timed out.\n",
      "  3     *        *      129 ms  2a02:c7a:4:ffff::312 \n",
      "  4   119 ms   113 ms   202 ms  2001:4860:1:1:0:15e7:0:10 \n",
      "  5   204 ms     5 ms    58 ms  2a00:1450:8167::1 \n",
      "  6     *       37 ms     *     2001:4860:0:1::5378 \n",
      "  7    12 ms   263 ms     *     2001:4860:0:1::7e4c \n",
      "  8   578 ms   225 ms    34 ms  2001:4860::c:4002:1123 \n",
      "  9   248 ms    13 ms   255 ms  2607:f8b0:e000::a \n",
      " 10     *      536 ms    10 ms  2001:4860:0:1::41dd \n",
      " 11    35 ms    15 ms    83 ms  lhr35s02-in-x0e.1e100.net [2a00:1450:4009:80a::200e] \n",
      "\n",
      "Trace complete.\n",
      "\n"
     ]
    }
   ],
   "source": [
    "import subprocess \n",
    "def tracert(domain): \n",
    "    try: \n",
    "        result = subprocess.run([\"tracert\", domain], capture_output=True, text=True)   \n",
    "        print(result.stdout) \n",
    "    except FileNotFoundError: \n",
    "        print(\"tracert command not found. Make sure it's available.\") \n",
    "    except Exception as e:  # Catching general exceptions for now \n",
    "        print(f\"An error occurred: {e}\") \n",
    "domain = input(\"Enter the website or IP address: \") \n",
    "tracert(domain)"
   ]
  },
  {
   "cell_type": "markdown",
   "id": "bba26a5a-fe8a-406a-ae10-23a007e99d47",
   "metadata": {},
   "source": [
    "There is a spike in the latency in hop 8 indicating a potential bottleneck in hop 8."
   ]
  },
  {
   "cell_type": "code",
   "execution_count": 12,
   "id": "e8ac3296-1f8e-4827-8885-d77fe49a9dea",
   "metadata": {},
   "outputs": [
    {
     "name": "stdin",
     "output_type": "stream",
     "text": [
      "Enter the website or IP address:  google.co.uk\n"
     ]
    },
    {
     "name": "stdout",
     "output_type": "stream",
     "text": [
      "\n",
      "Tracing route to google.co.uk [2a00:1450:4009:818::2003]\n",
      "over a maximum of 30 hops:\n",
      "\n",
      "  1     2 ms     2 ms    16 ms  2a02:c7c:38c8:ec00::1 \n",
      "  2     *        *        *     Request timed out.\n",
      "  3     *        *        7 ms  2a02:c7a:4:ffff::316 \n",
      "  4     *        *        *     Request timed out.\n",
      "  5     5 ms     4 ms     5 ms  2a00:1450:8166::1 \n",
      "  6     5 ms     5 ms     5 ms  2001:4860:0:1::54d2 \n",
      "  7     6 ms     *        *     2001:4860:0:1::7dfc \n",
      "  8     *        4 ms     4 ms  2001:4860::c:4000:cf5b \n",
      "  9     7 ms     6 ms     6 ms  2001:4860::9:4001:2717 \n",
      " 10     7 ms     7 ms     6 ms  2001:4860:0:1::2fd9 \n",
      " 11     4 ms     4 ms     4 ms  lhr48s08-in-x03.1e100.net [2a00:1450:4009:818::2003] \n",
      "\n",
      "Trace complete.\n",
      "\n"
     ]
    }
   ],
   "source": [
    "import subprocess \n",
    "def tracert(domain): \n",
    "    try: \n",
    "        result = subprocess.run([\"tracert\", domain], capture_output=True, text=True)   \n",
    "        print(result.stdout) \n",
    "    except FileNotFoundError: \n",
    "        print(\"tracert command not found. Make sure it's available.\") \n",
    "    except Exception as e:  # Catching general exceptions for now \n",
    "        print(f\"An error occurred: {e}\") \n",
    "domain = input(\"Enter the website or IP address: \") \n",
    "tracert(domain)"
   ]
  },
  {
   "cell_type": "markdown",
   "id": "864a18c9-b217-423c-a669-090815b3f267",
   "metadata": {},
   "source": [
    "There don't seem to be any bottlenecks, but hop 2 could be a slow point due to a lack of response."
   ]
  },
  {
   "cell_type": "code",
   "execution_count": 13,
   "id": "912d53e1-f0ac-473e-9614-e0ee3cf4c6a4",
   "metadata": {},
   "outputs": [
    {
     "name": "stdin",
     "output_type": "stream",
     "text": [
      "Enter the website or IP address:  wikipedia.org\n"
     ]
    },
    {
     "name": "stdout",
     "output_type": "stream",
     "text": [
      "\n",
      "Tracing route to wikipedia.org [2a02:ec80:300:ed1a::1]\n",
      "over a maximum of 30 hops:\n",
      "\n",
      "  1     9 ms     1 ms     1 ms  2a02:c7c:38c8:ec00::1 \n",
      "  2     *        *        *     Request timed out.\n",
      "  3    12 ms     *        *     2a02:c7a:4:ffff::31c \n",
      "  4     *        *        *     Request timed out.\n",
      "  5     *        *        *     Request timed out.\n",
      "  6    12 ms    13 ms    12 ms  2001:730:2200::5474:802c \n",
      "  7    13 ms    18 ms    13 ms  2001:730:2200::5474:803f \n",
      "  8    36 ms    27 ms    13 ms  2001:730:2209:1::d52e:ba0a \n",
      "  9     *        *        *     Request timed out.\n",
      " 10    10 ms    10 ms    10 ms  text-lb.esams.wikimedia.org [2a02:ec80:300:ed1a::1] \n",
      "\n",
      "Trace complete.\n",
      "\n"
     ]
    }
   ],
   "source": [
    "import subprocess \n",
    "def tracert(domain): \n",
    "    try: \n",
    "        result = subprocess.run([\"tracert\", domain], capture_output=True, text=True)   \n",
    "        print(result.stdout) \n",
    "    except FileNotFoundError: \n",
    "        print(\"tracert command not found. Make sure it's available.\") \n",
    "    except Exception as e:  # Catching general exceptions for now \n",
    "        print(f\"An error occurred: {e}\") \n",
    "domain = input(\"Enter the website or IP address: \") \n",
    "tracert(domain)"
   ]
  },
  {
   "cell_type": "markdown",
   "id": "dc8d642e-f50d-470f-97a2-6ecdd772b83a",
   "metadata": {},
   "source": [
    "Hop 8 has a sudden spike in latency which could indicate a bottleneck."
   ]
  },
  {
   "cell_type": "code",
   "execution_count": null,
   "id": "06fbe147-e50d-496a-b528-6bd07b541b15",
   "metadata": {},
   "outputs": [],
   "source": []
  }
 ],
 "metadata": {
  "kernelspec": {
   "display_name": "Python 3 (ipykernel)",
   "language": "python",
   "name": "python3"
  },
  "language_info": {
   "codemirror_mode": {
    "name": "ipython",
    "version": 3
   },
   "file_extension": ".py",
   "mimetype": "text/x-python",
   "name": "python",
   "nbconvert_exporter": "python",
   "pygments_lexer": "ipython3",
   "version": "3.12.3"
  }
 },
 "nbformat": 4,
 "nbformat_minor": 5
}
