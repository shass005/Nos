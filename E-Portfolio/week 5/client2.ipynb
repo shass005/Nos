{
 "cells": [
  {
   "cell_type": "code",
   "execution_count": null,
   "id": "96aba47f-0f5f-47ee-bffb-102bf7774168",
   "metadata": {},
   "outputs": [
    {
     "name": "stdin",
     "output_type": "stream",
     "text": [
      "Enter your username:  Jane\n",
      "Enter a password:  Password123@\n",
      "Enter your Key 5\n",
      "Enter your message:  Hi\n"
     ]
    },
    {
     "name": "stdout",
     "output_type": "stream",
     "text": [
      "Message sent to the server!\n"
     ]
    },
    {
     "name": "stdin",
     "output_type": "stream",
     "text": [
      "Enter your Key 8\n",
      "Enter your message:  Good, You?\n"
     ]
    },
    {
     "name": "stdout",
     "output_type": "stream",
     "text": [
      "Message sent to the server!\n"
     ]
    }
   ],
   "source": [
    "import socket\n",
    "import re\n",
    "\n",
    "def pass_str_checker(password):\n",
    "    issues = []\n",
    "    if len(password) < 8:\n",
    "        issues.append(\"Password must contain at least 8 characters.\")\n",
    "    if not re.search(r'[~></?\\!@#$,%]', password):\n",
    "        issues.append(\"Password must contain at least 1 special character.\")\n",
    "    if not re.search(r'[A-Z]', password):\n",
    "        issues.append(\"Password must contain at least 1 uppercase letter.\")\n",
    "    if not re.search(r'[a-z]', password):\n",
    "        issues.append(\"Password must contain at least 1 lowercase letter.\")\n",
    "    return issues\n",
    "\n",
    "def ceasers_cipher(message, key):\n",
    "    new_message = []\n",
    "    for letter in message:\n",
    "        character = ord(letter)\n",
    "        character = character + key\n",
    "        new_message.append(chr(character))\n",
    "    return \"\".join(new_message)\n",
    "\n",
    "client_socket = socket.socket(socket.AF_INET, socket.SOCK_STREAM)\n",
    "server_address = ('localhost', 65437)\n",
    "client_socket.connect(server_address)\n",
    "\n",
    "user_name = input(\"Enter your username: \").lower()\n",
    "while True:\n",
    "    password = input(\"Enter a password: \")\n",
    "    issues = pass_str_checker(password)\n",
    "    if issues:\n",
    "        for issue in issues:\n",
    "            print(issue)\n",
    "    else:\n",
    "        break\n",
    "\n",
    "user = {\n",
    "    \"name\": user_name,\n",
    "    \"ip_address\": socket.gethostbyname(socket.gethostname()),\n",
    "    \"password\": password\n",
    "}\n",
    "\n",
    "\n",
    "while True:\n",
    "    try:\n",
    "        key = int(input(\"Enter your Key\"))\n",
    "    except ValueError:\n",
    "        print(\"Enter a valid key. Must be a number!\")\n",
    "        continue\n",
    "        \n",
    "    message = input(\"Enter your message: \")\n",
    "    encrypted_message = ceasers_cipher(message, key)\n",
    "\n",
    "    message_final = f\"{user['name']} ({user['ip_address']}): {encrypted_message}:{key}\"\n",
    "\n",
    "    \n",
    "    # Send the message to the server\n",
    "    client_socket.sendall(message_final.encode('utf-8'))\n",
    "    print(\"Message sent to the server!\")\n",
    "\n",
    "    if message.lower() == \"exit\":\n",
    "        print(\"Exiting chat...\")\n",
    "        break\n",
    "\n",
    "client_socket.close()"
   ]
  },
  {
   "cell_type": "code",
   "execution_count": null,
   "id": "535aa67e-f027-4029-8779-8022cd3bde8c",
   "metadata": {},
   "outputs": [],
   "source": []
  }
 ],
 "metadata": {
  "kernelspec": {
   "display_name": "Python 3 (ipykernel)",
   "language": "python",
   "name": "python3"
  },
  "language_info": {
   "codemirror_mode": {
    "name": "ipython",
    "version": 3
   },
   "file_extension": ".py",
   "mimetype": "text/x-python",
   "name": "python",
   "nbconvert_exporter": "python",
   "pygments_lexer": "ipython3",
   "version": "3.12.3"
  }
 },
 "nbformat": 4,
 "nbformat_minor": 5
}
