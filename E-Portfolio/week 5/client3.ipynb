{
 "cells": [
  {
   "cell_type": "code",
   "execution_count": 1,
   "id": "96aba47f-0f5f-47ee-bffb-102bf7774168",
   "metadata": {},
   "outputs": [
    {
     "name": "stdin",
     "output_type": "stream",
     "text": [
      "Enter your username:  Jack\n",
      "Enter a password:  Password123@\n",
      "Enter your Key 3\n",
      "Enter your message:  Hello\n"
     ]
    },
    {
     "name": "stdout",
     "output_type": "stream",
     "text": [
      "Message sent to the server!\n"
     ]
    },
    {
     "name": "stdin",
     "output_type": "stream",
     "text": [
      "Enter your Key 6\n",
      "Enter your message:  How are you?\n"
     ]
    },
    {
     "name": "stdout",
     "output_type": "stream",
     "text": [
      "Message sent to the server!\n"
     ]
    },
    {
     "name": "stdin",
     "output_type": "stream",
     "text": [
      "Enter your Key 1\n",
      "Enter your message:  Great\n"
     ]
    },
    {
     "ename": "ConnectionAbortedError",
     "evalue": "[WinError 10053] An established connection was aborted by the software in your host machine",
     "output_type": "error",
     "traceback": [
      "\u001b[1;31m---------------------------------------------------------------------------\u001b[0m",
      "\u001b[1;31mConnectionAbortedError\u001b[0m                    Traceback (most recent call last)",
      "Cell \u001b[1;32mIn[1], line 59\u001b[0m\n\u001b[0;32m     55\u001b[0m message_final \u001b[38;5;241m=\u001b[39m \u001b[38;5;124mf\u001b[39m\u001b[38;5;124m\"\u001b[39m\u001b[38;5;132;01m{\u001b[39;00muser[\u001b[38;5;124m'\u001b[39m\u001b[38;5;124mname\u001b[39m\u001b[38;5;124m'\u001b[39m]\u001b[38;5;132;01m}\u001b[39;00m\u001b[38;5;124m (\u001b[39m\u001b[38;5;132;01m{\u001b[39;00muser[\u001b[38;5;124m'\u001b[39m\u001b[38;5;124mip_address\u001b[39m\u001b[38;5;124m'\u001b[39m]\u001b[38;5;132;01m}\u001b[39;00m\u001b[38;5;124m): \u001b[39m\u001b[38;5;132;01m{\u001b[39;00mencrypted_message\u001b[38;5;132;01m}\u001b[39;00m\u001b[38;5;124m:\u001b[39m\u001b[38;5;132;01m{\u001b[39;00mkey\u001b[38;5;132;01m}\u001b[39;00m\u001b[38;5;124m\"\u001b[39m\n\u001b[0;32m     58\u001b[0m \u001b[38;5;66;03m# Send the message to the server\u001b[39;00m\n\u001b[1;32m---> 59\u001b[0m client_socket\u001b[38;5;241m.\u001b[39msendall(message_final\u001b[38;5;241m.\u001b[39mencode(\u001b[38;5;124m'\u001b[39m\u001b[38;5;124mutf-8\u001b[39m\u001b[38;5;124m'\u001b[39m))\n\u001b[0;32m     60\u001b[0m \u001b[38;5;28mprint\u001b[39m(\u001b[38;5;124m\"\u001b[39m\u001b[38;5;124mMessage sent to the server!\u001b[39m\u001b[38;5;124m\"\u001b[39m)\n\u001b[0;32m     62\u001b[0m \u001b[38;5;28;01mif\u001b[39;00m message\u001b[38;5;241m.\u001b[39mlower() \u001b[38;5;241m==\u001b[39m \u001b[38;5;124m\"\u001b[39m\u001b[38;5;124mexit\u001b[39m\u001b[38;5;124m\"\u001b[39m:\n",
      "\u001b[1;31mConnectionAbortedError\u001b[0m: [WinError 10053] An established connection was aborted by the software in your host machine"
     ]
    }
   ],
   "source": [
    "import socket\n",
    "import re\n",
    "\n",
    "def pass_str_checker(password):\n",
    "    issues = []\n",
    "    if len(password) < 8:\n",
    "        issues.append(\"Password must contain at least 8 characters.\")\n",
    "    if not re.search(r'[~></?\\!@#$,%]', password):\n",
    "        issues.append(\"Password must contain at least 1 special character.\")\n",
    "    if not re.search(r'[A-Z]', password):\n",
    "        issues.append(\"Password must contain at least 1 uppercase letter.\")\n",
    "    if not re.search(r'[a-z]', password):\n",
    "        issues.append(\"Password must contain at least 1 lowercase letter.\")\n",
    "    return issues\n",
    "\n",
    "def ceasers_cipher(message, key):\n",
    "    new_message = []\n",
    "    for letter in message:\n",
    "        character = ord(letter)\n",
    "        character = character + key\n",
    "        new_message.append(chr(character))\n",
    "    return \"\".join(new_message)\n",
    "\n",
    "client_socket = socket.socket(socket.AF_INET, socket.SOCK_STREAM)\n",
    "server_address = ('localhost', 65437)\n",
    "client_socket.connect(server_address)\n",
    "\n",
    "user_name = input(\"Enter your username: \").lower()\n",
    "while True:\n",
    "    password = input(\"Enter a password: \")\n",
    "    issues = pass_str_checker(password)\n",
    "    if issues:\n",
    "        for issue in issues:\n",
    "            print(issue)\n",
    "    else:\n",
    "        break\n",
    "\n",
    "user = {\n",
    "    \"name\": user_name,\n",
    "    \"ip_address\": socket.gethostbyname(socket.gethostname()),\n",
    "    \"password\": password\n",
    "}\n",
    "\n",
    "\n",
    "while True:\n",
    "    try:\n",
    "        key = int(input(\"Enter your Key\"))\n",
    "    except ValueError:\n",
    "        print(\"Enter a valid key. Must be a number!\")\n",
    "        continue\n",
    "        \n",
    "    message = input(\"Enter your message: \")\n",
    "    encrypted_message = ceasers_cipher(message, key)\n",
    "\n",
    "    message_final = f\"{user['name']} ({user['ip_address']}): {encrypted_message}:{key}\"\n",
    "\n",
    "    \n",
    "    # Send the message to the server\n",
    "    client_socket.sendall(message_final.encode('utf-8'))\n",
    "    print(\"Message sent to the server!\")\n",
    "\n",
    "    if message.lower() == \"exit\":\n",
    "        print(\"Exiting chat...\")\n",
    "        break\n",
    "\n",
    "client_socket.close()"
   ]
  },
  {
   "cell_type": "code",
   "execution_count": null,
   "id": "5e5edecc-4614-4b81-a07c-f7076c7ceb22",
   "metadata": {},
   "outputs": [],
   "source": []
  }
 ],
 "metadata": {
  "kernelspec": {
   "display_name": "Python 3 (ipykernel)",
   "language": "python",
   "name": "python3"
  },
  "language_info": {
   "codemirror_mode": {
    "name": "ipython",
    "version": 3
   },
   "file_extension": ".py",
   "mimetype": "text/x-python",
   "name": "python",
   "nbconvert_exporter": "python",
   "pygments_lexer": "ipython3",
   "version": "3.12.3"
  }
 },
 "nbformat": 4,
 "nbformat_minor": 5
}
