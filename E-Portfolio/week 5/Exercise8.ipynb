{
 "cells": [
  {
   "cell_type": "code",
   "execution_count": null,
   "id": "53b592ea-63a3-4e30-9839-2d5172d88cee",
   "metadata": {},
   "outputs": [
    {
     "name": "stdout",
     "output_type": "stream",
     "text": [
      "TCP Server is listening...\n",
      "Connected to ('127.0.0.1', 65499)\n",
      "Received data from ('127.0.0.1', 65499): Current temperature: 15.4°C\n"
     ]
    }
   ],
   "source": [
    "import socket\n",
    "import threading\n",
    "\n",
    "\n",
    "def clients(client_socket, client_address):\n",
    "    data = client_socket.recv(1024)\n",
    "    print(f\"Received data from {client_address}: {data.decode('utf-8')}\")\n",
    "    client_socket.close()\n",
    "\n",
    "\n",
    "def server():\n",
    "    server_socket = socket.socket(socket.AF_INET, socket.SOCK_STREAM)\n",
    "    server_socket.bind(('localhost', 65438))\n",
    "    server_socket.listen(2)\n",
    "    print(\"TCP Server is listening...\")\n",
    "\n",
    "    while True:\n",
    "        client_socket, client_address = server_socket.accept() \n",
    "        print(f\"Connected to {client_address}\")\n",
    "        \n",
    "        client_thread = threading.Thread(target=clients, args=(client_socket, client_address))\n",
    "        client_thread.daemon = True  \n",
    "        client_thread.start()  \n",
    "server()\n"
   ]
  },
  {
   "cell_type": "code",
   "execution_count": null,
   "id": "fe06c509-dd9f-4164-9f87-d13c03c7112e",
   "metadata": {},
   "outputs": [],
   "source": []
  }
 ],
 "metadata": {
  "kernelspec": {
   "display_name": "Python 3 (ipykernel)",
   "language": "python",
   "name": "python3"
  },
  "language_info": {
   "codemirror_mode": {
    "name": "ipython",
    "version": 3
   },
   "file_extension": ".py",
   "mimetype": "text/x-python",
   "name": "python",
   "nbconvert_exporter": "python",
   "pygments_lexer": "ipython3",
   "version": "3.12.3"
  }
 },
 "nbformat": 4,
 "nbformat_minor": 5
}
