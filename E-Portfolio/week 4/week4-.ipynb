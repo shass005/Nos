{
 "cells": [
  {
   "cell_type": "markdown",
   "id": "d82b0772-70a6-448c-94e1-091cf0acf21f",
   "metadata": {},
   "source": [
    "Exercises 1, 2, 3, 4"
   ]
  },
  {
   "cell_type": "code",
   "execution_count": null,
   "id": "e1d4892a-a5ba-41e3-ab40-ac09dd25d90f",
   "metadata": {},
   "outputs": [
    {
     "name": "stdout",
     "output_type": "stream",
     "text": [
      "UDP Server is ready to receive API data...\n",
      "Received data from ('127.0.0.1', 54229): jack (192.168.56.1): Khoor:3\n",
      "Decrypted message from jack (192.168.56.1): Hello\n",
      "Received data from ('127.0.0.1', 52946): jane (192.168.56.1): Mn:5\n",
      "Decrypted message from jane (192.168.56.1): Hi\n",
      "Received data from ('127.0.0.1', 54229): jack (192.168.56.1): Jqy\"ctg:2\n",
      "Decrypted message from jack (192.168.56.1): How are\n",
      "Received data from ('127.0.0.1', 54229): jack (192.168.56.1): {qw:2\n",
      "Decrypted message from jack (192.168.56.1): you\n",
      "Received data from ('127.0.0.1', 52946): jane (192.168.56.1): nylh{3'{ohurz'mvy'hzrpun:7\n",
      "Decrypted message from jane (192.168.56.1): great, thanks for asking\n",
      "Received data from ('127.0.0.1', 58754): Current temperature: 15.9°C\n",
      "Invalid message format from ('127.0.0.1', 58754): Current temperature: 15.9°C\n",
      "Received data from ('127.0.0.1', 58295): Current temperature at the British Library: 16.1°C\n",
      "Invalid message format from ('127.0.0.1', 58295): Current temperature at the British Library: 16.1°C\n",
      "Received data from ('127.0.0.1', 51313): Current temperature at Goldsmith University: 15.9°C\n",
      "Invalid message format from ('127.0.0.1', 51313): Current temperature at Goldsmith University: 15.9°C\n",
      "Received data from ('127.0.0.1', 52946): jane (192.168.56.1): H{huflvhv#408#frpsohwhg:3\n",
      "Decrypted message from jane (192.168.56.1): Exercises 1-5 completed\n"
     ]
    }
   ],
   "source": [
    "import socket\n",
    "\n",
    "def ceasers_decipher(message, key):\n",
    "    new_message = []\n",
    "    for letter in message:\n",
    "        character = ord(letter)\n",
    "        character = character - key\n",
    "        new_message.append(chr(character))\n",
    "    return \"\".join(new_message)\n",
    "\n",
    "\n",
    "# Create a socket object using IPv4 and UDP\n",
    "server_socket = socket.socket(socket.AF_INET, socket.SOCK_DGRAM)\n",
    "# Bind the socket to localhost and port 65433\n",
    "server_socket.bind(('localhost', 65433))\n",
    "print(\"UDP Server is ready to receive API data...\")\n",
    "\n",
    "while True:\n",
    "    # Receive data from a client (maximum 2048 bytes)\n",
    "    data, client_address = server_socket.recvfrom(2048)\n",
    "    message = data.decode('utf-8')  # Decode the message from bytes to string\n",
    "    print(f\"Received data from {client_address}: {data.decode()}\")    \n",
    "\n",
    "    try:\n",
    "        user_info, encrypted_message, key_str = message.split(\":\")\n",
    "        key = int(key_str) \n",
    "        decrypted_message = ceasers_decipher(encrypted_message.strip(), key)\n",
    "        print(f\"Decrypted message from {user_info.strip()}: {decrypted_message}\")\n",
    "    except ValueError:\n",
    "        print(\"Invalid fomrat\")"
   ]
  }
 ],
 "metadata": {
  "kernelspec": {
   "display_name": "Python 3 (ipykernel)",
   "language": "python",
   "name": "python3"
  },
  "language_info": {
   "codemirror_mode": {
    "name": "ipython",
    "version": 3
   },
   "file_extension": ".py",
   "mimetype": "text/x-python",
   "name": "python",
   "nbconvert_exporter": "python",
   "pygments_lexer": "ipython3",
   "version": "3.12.3"
  }
 },
 "nbformat": 4,
 "nbformat_minor": 5
}
