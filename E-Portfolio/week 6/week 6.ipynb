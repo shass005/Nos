{
 "cells": [
  {
   "cell_type": "markdown",
   "id": "11d4a046-6699-484b-9944-f7981751009b",
   "metadata": {},
   "source": [
    "Exercise 1"
   ]
  },
  {
   "cell_type": "code",
   "execution_count": 10,
   "id": "860dc904-dd3e-42c3-9a37-1e75996f928f",
   "metadata": {},
   "outputs": [
    {
     "name": "stdout",
     "output_type": "stream",
     "text": [
      "Address: 192.168.1.1\n",
      "Network: 192.168.1.0/24\n",
      "Netmask: 255.255.255.0\n",
      "Is private: True\n",
      "Is global: False\n",
      "Network broadcast adderess: 192.168.1.255\n",
      "Number of usable hosts:  256\n",
      "First usable host address:  192.168.1.1\n",
      "Last usable host address:  192.168.1.254\n"
     ]
    }
   ],
   "source": [
    "import ipaddress \n",
    " \n",
    "def analyse_ip(ip_str): \n",
    "    # Create an IP interface object \n",
    "    ip = ipaddress.ip_interface(ip_str) \n",
    "     \n",
    "    print(f\"Address: {ip.ip}\") \n",
    "    print(f\"Network: {ip.network}\") \n",
    "    print(f\"Netmask: {ip.netmask}\") \n",
    "    print(f\"Is private: {ip.ip.is_private}\") \n",
    "    print(f\"Is global: {ip.ip.is_global}\") \n",
    "    print(f\"Network broadcast adderess: {ip.network.broadcast_address}\") \n",
    "    print(f\"Number of usable hosts:  {ip.network.num_addresses}\") \n",
    "    host = list(ip.network.hosts())\n",
    "    print(f\"First usable host address:  {host[0]}\")    \n",
    "    print(f\"Last usable host address:  {host[-1]}\") \n",
    "\n",
    "    # List all hosts in the network \n",
    "    if ip.network.num_addresses < 256:  # Only for small networks \n",
    "        print(\"\\nHosts in network:\") \n",
    "        for host in ip.network.hosts(): \n",
    "            print(host) \n",
    " \n",
    "# Example usage \n",
    "analyse_ip('192.168.1.1/24') "
   ]
  },
  {
   "cell_type": "markdown",
   "id": "a5c39b27-046e-48d6-ae80-c9b632835232",
   "metadata": {},
   "source": [
    "Exercise 2"
   ]
  },
  {
   "cell_type": "code",
   "execution_count": 21,
   "id": "c5daaf05-4758-4ef4-8387-c87500727d4c",
   "metadata": {},
   "outputs": [
    {
     "name": "stdout",
     "output_type": "stream",
     "text": [
      "Your Computer Name is: Sabti-Axad\n",
      "Your Computer IP Address is: 192.168.56.1\n",
      "Your Ip 192.168.56.1 is private\n"
     ]
    }
   ],
   "source": [
    "import socket \n",
    "hostname = socket.gethostname() \n",
    "IPAddr = socket.gethostbyname(hostname) \n",
    "\n",
    "def private_ip(IPAddr):\n",
    "    ip = ipaddress.ip_address(IPAddr)\n",
    "    return ip.is_private\n",
    "    \n",
    "print(\"Your Computer Name is: \" + hostname)\n",
    "print(\"Your Computer IP Address is: \" + IPAddr) \n",
    "if private_ip(IPAddr):\n",
    "    print(\"Your Ip \" + IPAddr + \" is private\")"
   ]
  },
  {
   "cell_type": "markdown",
   "id": "b2a36ae9-8fc4-4484-8755-272bd656062d",
   "metadata": {},
   "source": [
    "Exercise 3"
   ]
  },
  {
   "cell_type": "code",
   "execution_count": 22,
   "id": "c3345103-e27f-42be-b706-9446920e289e",
   "metadata": {},
   "outputs": [
    {
     "name": "stdin",
     "output_type": "stream",
     "text": [
      "Enter the website URL (without 'https://'):  learn.gold.ac.uk\n"
     ]
    },
    {
     "name": "stdout",
     "output_type": "stream",
     "text": [
      "The IP address of learn.gold.ac.uk is 52.169.178.98\n"
     ]
    }
   ],
   "source": [
    "import socket\n",
    "\n",
    "def get_ip_address(website_url):\n",
    "    try:\n",
    "        ip_address = socket.gethostbyname(website_url)\n",
    "        print(f\"The IP address of {website_url} is {ip_address}\")\n",
    "    except socket.gaierror:\n",
    "        print(f\"Unable to get the IP address for {website_url}\")\n",
    "\n",
    "# Example usage\n",
    "website = input(\"Enter the website URL (without 'https://'): \")\n",
    "get_ip_address(website)\n"
   ]
  },
  {
   "cell_type": "code",
   "execution_count": 29,
   "id": "d36dc1cf-f040-403c-9c64-6d2e997aa2c6",
   "metadata": {},
   "outputs": [
    {
     "name": "stdin",
     "output_type": "stream",
     "text": [
      "Enter the website URL (without 'https://'):  learn.gold.ac.uk\n"
     ]
    },
    {
     "name": "stdout",
     "output_type": "stream",
     "text": [
      "The IP address of learn.gold.ac.uk is 52.169.178.98\n",
      "Your Ip 52.169.178.98 is Pubkic\n"
     ]
    }
   ],
   "source": [
    "import socket\n",
    "import ipaddress\n",
    "\n",
    "def get_ip_address(website_url):\n",
    "    \"\"\"Fetch the IP address of a given website.\"\"\"\n",
    "    try:\n",
    "        ip_address = socket.gethostbyname(website_url)\n",
    "        return ip_address\n",
    "    except socket.gaierror:\n",
    "        print(f\"Unable to get the IP address for {website_url}\")\n",
    "        return None\n",
    "\n",
    "def private_ip(ip_address):\n",
    "    \"\"\"Check if an IP address is private.\"\"\"\n",
    "    ip = ipaddress.ip_address(ip_address)\n",
    "    return ip.is_private\n",
    "\n",
    "# Get website URL from user input\n",
    "website = input(\"Enter the website URL (without 'https://'): \")\n",
    "ip_address = get_ip_address(website)\n",
    "\n",
    "if ip_address:\n",
    "    print(f\"The IP address of {website} is {ip_address}\")\n",
    "    # Check if the IP address is private\n",
    "    if private_ip(ip_address):\n",
    "        print(\"Your Ip \" + ip_address + \" is private\")\n",
    "    else:\n",
    "        print(\"Your Ip \" + ip_address + \" is Pubkic\")"
   ]
  },
  {
   "cell_type": "code",
   "execution_count": 2,
   "id": "f870f895-2b9e-4cc9-8aa4-f325a915699a",
   "metadata": {},
   "outputs": [
    {
     "name": "stdout",
     "output_type": "stream",
     "text": [
      "=== Simple DHCP Simulation ===\n",
      "\n",
      "[CLIENT] Step 1: Sending DHCP DISCOVER\n",
      "\n",
      "[SERVER] Step 2: Making DHCP OFFER\n",
      "\n",
      "[CLIENT] Step 3: Sending DHCP REQUEST\n",
      "\n",
      "[SERVER] Step 4: Sending DHCP ACK\n",
      "\n",
      "=== Result ===\n",
      "Client AA:BB:CC:DD:EE:FF got IP: 192.168.1.100\n",
      "Server leases: {'AA:BB:CC:DD:EE:FF': '192.168.1.100'}\n"
     ]
    }
   ],
   "source": [
    "# dhcp_simple.py - Simplified DHCP Simulator \n",
    " \n",
    "# Server Configuration \n",
    "server = { \n",
    "    \"ip_pool\": [\"192.168.1.100\", \"192.168.1.101\", \"192.168.1.102\"], \n",
    "    \"leases\": {} \n",
    "} \n",
    " \n",
    "# Client Configuration \n",
    "client = { \n",
    "    \"mac\": \"AA:BB:CC:DD:EE:FF\", \n",
    "    \"ip\": None \n",
    "} \n",
    " \n",
    "def send_discover(): \n",
    "    print(\"\\n[CLIENT] Step 1: Sending DHCP DISCOVER\") \n",
    "    return { \n",
    "        \"type\": \"DISCOVER\", \n",
    "        \"mac\": client[\"mac\"] \n",
    "    } \n",
    " \n",
    "def make_offer(discover): \n",
    "    print(\"\\n[SERVER] Step 2: Making DHCP OFFER\") \n",
    "    if not server[\"ip_pool\"]: \n",
    "        print(\"No IPs available!\") \n",
    "        return None \n",
    "     \n",
    "    offered_ip = server[\"ip_pool\"].pop(0) \n",
    "    return { \n",
    "        \"type\": \"OFFER\", \n",
    "        \"mac\": discover[\"mac\"], \n",
    "        \"ip\": offered_ip \n",
    "    } \n",
    " \n",
    "def send_request(offer): \n",
    "    print(\"\\n[CLIENT] Step 3: Sending DHCP REQUEST\") \n",
    "    return { \n",
    "        \"type\": \"REQUEST\", \n",
    "        \"mac\": offer[\"mac\"], \n",
    "        \"ip\": offer[\"ip\"] \n",
    "    }\n",
    "def send_ack(request): \n",
    "    print(\"\\n[SERVER] Step 4: Sending DHCP ACK\") \n",
    "    server[\"leases\"][request[\"mac\"]] = request[\"ip\"] \n",
    "    return { \n",
    "        \"type\": \"ACK\", \n",
    "        \"mac\": request[\"mac\"], \n",
    "        \"ip\": request[\"ip\"] \n",
    "    } \n",
    " \n",
    "def main(): \n",
    "    print(\"=== Simple DHCP Simulation ===\") \n",
    "     \n",
    "    # Client starts process \n",
    "    discover = send_discover() \n",
    "     \n",
    "    # Server responds \n",
    "    offer = make_offer(discover) \n",
    "    if not offer: \n",
    "        return \n",
    "     \n",
    "    # Client continues \n",
    "    request = send_request(offer) \n",
    "     \n",
    "    # Server finalizes \n",
    "    ack = send_ack(request) \n",
    "     \n",
    "    # Update client IP \n",
    "    client[\"ip\"] = ack[\"ip\"] \n",
    "     \n",
    "    print(\"\\n=== Result ===\") \n",
    "    print(f\"Client {client['mac']} got IP: {client['ip']}\") \n",
    "    print(\"Server leases:\", server[\"leases\"]) \n",
    " \n",
    "if __name__ == \"__main__\": \n",
    "    main() "
   ]
  },
  {
   "cell_type": "code",
   "execution_count": null,
   "id": "9525f132-615c-4c56-ba1f-f724cf4db678",
   "metadata": {},
   "outputs": [],
   "source": []
  }
 ],
 "metadata": {
  "kernelspec": {
   "display_name": "Python 3 (ipykernel)",
   "language": "python",
   "name": "python3"
  },
  "language_info": {
   "codemirror_mode": {
    "name": "ipython",
    "version": 3
   },
   "file_extension": ".py",
   "mimetype": "text/x-python",
   "name": "python",
   "nbconvert_exporter": "python",
   "pygments_lexer": "ipython3",
   "version": "3.12.3"
  }
 },
 "nbformat": 4,
 "nbformat_minor": 5
}
