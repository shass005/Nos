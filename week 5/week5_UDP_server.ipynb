{
 "cells": [
  {
   "cell_type": "code",
   "execution_count": null,
   "id": "80ca34cc-3f14-42b1-bcba-e9f38f304b98",
   "metadata": {},
   "outputs": [
    {
     "name": "stdout",
     "output_type": "stream",
     "text": [
      "UDP Server is ready to receive API data...\n",
      "Received data from ('127.0.0.1', 59294): hello\n",
      "Sent acknowledgment to ('127.0.0.1', 59294)\n",
      "Received data from ('127.0.0.1', 63006): hello\n",
      "Sent acknowledgment to ('127.0.0.1', 63006)\n",
      "Received data from ('127.0.0.1', 64559): hello\n",
      "Sent acknowledgment to ('127.0.0.1', 64559)\n"
     ]
    }
   ],
   "source": [
    "import socket\n",
    "\n",
    "# Create a socket object using IPv4 and UDP\n",
    "server_socket = socket.socket(socket.AF_INET, socket.SOCK_DGRAM)\n",
    "\n",
    "# Bind the socket to localhost and port 65433\n",
    "server_socket.bind(('localhost', 65432))\n",
    "\n",
    "print(\"UDP Server is ready to receive API data...\")\n",
    "\n",
    "while True:\n",
    "    # Receive data from a client (maximum 2048 bytes)\n",
    "    data, client_address = server_socket.recvfrom(2048)\n",
    "    print(f\"Received data from {client_address}: {data.decode()}\")\n",
    "    \n",
    "    # Echo back the data \n",
    "    response = b\"ACK: \" + data\n",
    "    server_socket.sendto(response, client_address)\n",
    "    print(f\"Sent acknowledgment to {client_address}\")"
   ]
  },
  {
   "cell_type": "markdown",
   "id": "b46d6d7a-ab1e-4ca0-99cf-c2a0a0038003",
   "metadata": {},
   "source": [
    "Exercise 4"
   ]
  },
  {
   "cell_type": "code",
   "execution_count": null,
   "id": "45ad6f53-3994-4d4e-ac12-beb1c4d3130e",
   "metadata": {},
   "outputs": [
    {
     "name": "stdout",
     "output_type": "stream",
     "text": [
      "UDP Server is listening...\n",
      "Received from ('127.0.0.1', 52127): hello\n",
      "Sent acknowledgment to ('127.0.0.1', 52127)\n",
      "File received and saved to 'received_file.txt'\n"
     ]
    }
   ],
   "source": [
    "import socket\n",
    "\n",
    "server_socket = socket.socket(socket.AF_INET, socket.SOCK_DGRAM)\n",
    "server_socket.bind(('localhost', 65432))\n",
    "print(\"UDP Server is listening...\")\n",
    "\n",
    "while True:\n",
    "    data, client_address = server_socket.recvfrom(1024)\n",
    "    print(f\"Received from {client_address}: {data.decode()}\")\n",
    "\n",
    "    # Echo back the data\n",
    "    response = b\"ACK: \" + data\n",
    "    server_socket.sendto(response, client_address)\n",
    "    print(f\"Sent acknowledgment to {client_address}\")\n",
    "\n",
    "    with open('UDP_received_file.txt', 'wb') as file:\n",
    "        while True:\n",
    "            file_data, _ = server_socket.recvfrom(1024)\n",
    "            if not file_data:\n",
    "                break\n",
    "            file.write(file_data)\n",
    "    print(\"File received and saved to 'received_file.txt'\")\n"
   ]
  },
  {
   "cell_type": "code",
   "execution_count": null,
   "id": "f4c406ae-c8c1-4387-8778-591e97295e29",
   "metadata": {},
   "outputs": [],
   "source": []
  },
  {
   "cell_type": "code",
   "execution_count": null,
   "id": "ce4234f8-f974-4a40-a20c-7d9c57f0be9c",
   "metadata": {},
   "outputs": [],
   "source": []
  }
 ],
 "metadata": {
  "kernelspec": {
   "display_name": "Python 3 (ipykernel)",
   "language": "python",
   "name": "python3"
  },
  "language_info": {
   "codemirror_mode": {
    "name": "ipython",
    "version": 3
   },
   "file_extension": ".py",
   "mimetype": "text/x-python",
   "name": "python",
   "nbconvert_exporter": "python",
   "pygments_lexer": "ipython3",
   "version": "3.12.3"
  }
 },
 "nbformat": 4,
 "nbformat_minor": 5
}
