{
 "cells": [
  {
   "cell_type": "markdown",
   "id": "9d75de6f-f94f-4b76-b593-ce3c2b85f010",
   "metadata": {},
   "source": [
    "Exercise 6-7"
   ]
  },
  {
   "cell_type": "code",
   "execution_count": null,
   "id": "436d6645-7434-4a17-8b82-477846acf4f9",
   "metadata": {},
   "outputs": [
    {
     "name": "stdout",
     "output_type": "stream",
     "text": [
      "TCP Server is listening...\n",
      "Connected to ('127.0.0.1', 63317)\n",
      "Received data from ('127.0.0.1', 63317): jack (192.168.56.1): Khoor:3\n",
      "Decrypted message from jack (192.168.56.1): Hello\n",
      "Connected to ('127.0.0.1', 63335)\n",
      "Received data from ('127.0.0.1', 63335): jane (192.168.56.1): Mn:5\n",
      "Decrypted message from jane (192.168.56.1): Hi\n"
     ]
    }
   ],
   "source": [
    "import socket\n",
    "import threading\n",
    "\n",
    "def ceasers_decipher(message, key):\n",
    "    new_message = []\n",
    "    for letter in message:\n",
    "        character = ord(letter)\n",
    "        character = character - key\n",
    "        new_message.append(chr(character))\n",
    "    return \"\".join(new_message)\n",
    "\n",
    "def clients(client_socket, client_address):\n",
    "    data = client_socket.recv(1024)\n",
    "    message = data.decode('utf-8')\n",
    "    print(f\"Received data from {client_address}: {message}\")\n",
    "\n",
    "    try:\n",
    "        user_info, encrypted_message, key_str = message.split(\":\")\n",
    "        key = int(key_str) \n",
    "        decrypted_message = ceasers_decipher(encrypted_message.strip(), key)\n",
    "        print(f\"Decrypted message from {user_info.strip()}: {decrypted_message}\")\n",
    "    except ValueError:\n",
    "        print(\"Invalid fomrat\")\n",
    "        \n",
    "    client_socket.close()\n",
    "\n",
    "\n",
    "def server():\n",
    "    server_socket = socket.socket(socket.AF_INET, socket.SOCK_STREAM)\n",
    "    server_socket.bind(('localhost', 65437))\n",
    "    server_socket.listen(2)\n",
    "    print(\"TCP Server is listening...\")\n",
    "\n",
    "    while True:\n",
    "        client_socket, client_address = server_socket.accept() \n",
    "        print(f\"Connected to {client_address}\")\n",
    "        \n",
    "        client_thread = threading.Thread(target=clients, args=(client_socket, client_address))\n",
    "        client_thread.daemon = True  \n",
    "        client_thread.start()  \n",
    "server()\n"
   ]
  },
  {
   "cell_type": "code",
   "execution_count": null,
   "id": "95332610-a275-4b9b-aa06-d3b4dd1377d7",
   "metadata": {},
   "outputs": [],
   "source": []
  }
 ],
 "metadata": {
  "kernelspec": {
   "display_name": "Python 3 (ipykernel)",
   "language": "python",
   "name": "python3"
  },
  "language_info": {
   "codemirror_mode": {
    "name": "ipython",
    "version": 3
   },
   "file_extension": ".py",
   "mimetype": "text/x-python",
   "name": "python",
   "nbconvert_exporter": "python",
   "pygments_lexer": "ipython3",
   "version": "3.12.3"
  }
 },
 "nbformat": 4,
 "nbformat_minor": 5
}
