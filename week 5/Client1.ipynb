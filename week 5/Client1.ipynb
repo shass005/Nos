{
 "cells": [
  {
   "cell_type": "markdown",
   "id": "6238bbfc-5eda-4545-9358-308362b23a1e",
   "metadata": {},
   "source": [
    "Exercise 1"
   ]
  },
  {
   "cell_type": "code",
   "execution_count": 4,
   "id": "3c885e7b-e4fb-4180-9241-d3cac03a27df",
   "metadata": {},
   "outputs": [
    {
     "name": "stdin",
     "output_type": "stream",
     "text": [
      "Enter message:  hello\n"
     ]
    },
    {
     "name": "stdout",
     "output_type": "stream",
     "text": [
      "Server response: ACK: hello\n",
      "It took 0:00:01.496012 to send and recieve the data\n"
     ]
    }
   ],
   "source": [
    "import socket \n",
    "import datetime\n",
    "client_socket = socket.socket(socket.AF_INET, socket.SOCK_STREAM) \n",
    "client_socket.connect(('localhost', 65432)) \n",
    "\n",
    "start = datetime.datetime.now()\n",
    "\n",
    "message = input(\"Enter message: \") \n",
    "client_socket.sendall(message.encode()) \n",
    "\n",
    "response = client_socket.recv(1024) \n",
    "print(f\"Server response: {response.decode()}\") \n",
    "\n",
    "end = datetime.datetime.now()\n",
    "\n",
    "time_taken = end - start\n",
    "print(f\"It took {time_taken} to send and recieve the data\")\n",
    "client_socket.close() "
   ]
  },
  {
   "cell_type": "markdown",
   "id": "550ef6ac-4d16-4b0d-9b84-163868db1692",
   "metadata": {},
   "source": [
    "Exercise 2"
   ]
  },
  {
   "cell_type": "code",
   "execution_count": 5,
   "id": "86d9c420-36f9-4c4b-9ff8-aae3497f5a4f",
   "metadata": {},
   "outputs": [
    {
     "name": "stdin",
     "output_type": "stream",
     "text": [
      "Enter message:  hello\n"
     ]
    },
    {
     "name": "stdout",
     "output_type": "stream",
     "text": [
      "Server response: ACK: hello\n",
      "It took 0:00:01.287716 to send and recieve the data\n"
     ]
    }
   ],
   "source": [
    "import socket \n",
    "import datetime\n",
    "\n",
    "client_socket = socket.socket(socket.AF_INET, socket.SOCK_DGRAM)\n",
    "server_address = ('localhost', 65432)\n",
    "\n",
    "start = datetime.datetime.now()\n",
    "\n",
    "message = input(\"Enter message: \") \n",
    "client_socket.sendto(message.encode(), server_address)\n",
    "\n",
    "response, server = client_socket.recvfrom(1024)\n",
    "print(f\"Server response: {response.decode()}\") \n",
    "\n",
    "end = datetime.datetime.now()\n",
    "\n",
    "time_taken = end - start\n",
    "print(f\"It took {time_taken} to send and recieve the data\")\n",
    "client_socket.close() "
   ]
  },
  {
   "cell_type": "markdown",
   "id": "7531bd61-785e-4bfc-9622-ba56aec9843f",
   "metadata": {},
   "source": [
    "Exercise 3"
   ]
  },
  {
   "cell_type": "code",
   "execution_count": 11,
   "id": "2f780e91-9deb-4ac6-8ef9-dca9a26ba3ad",
   "metadata": {},
   "outputs": [
    {
     "name": "stdin",
     "output_type": "stream",
     "text": [
      "Enter message:  hello\n"
     ]
    },
    {
     "name": "stdout",
     "output_type": "stream",
     "text": [
      "Server response: ACK: hello\n",
      "It took 0:00:01.445907 to send and recieve the data\n"
     ]
    }
   ],
   "source": [
    "import socket \n",
    "import datetime\n",
    "client_socket = socket.socket(socket.AF_INET, socket.SOCK_STREAM) \n",
    "client_socket.connect(('localhost', 65432)) \n",
    "\n",
    "start = datetime.datetime.now()\n",
    "\n",
    "message = input(\"Enter message: \") \n",
    "client_socket.sendall(message.encode()) \n",
    "\n",
    "response = client_socket.recv(1024) \n",
    "print(f\"Server response: {response.decode()}\") \n",
    "\n",
    "#... (Client setup code) \n",
    "with open('file_to_send.txt', 'rb') as f: \n",
    "    client_socket.sendfile(f) \n",
    "\n",
    "end = datetime.datetime.now()\n",
    "\n",
    "time_taken = end - start\n",
    "print(f\"It took {time_taken} to send and recieve the data\")\n",
    "\n",
    "client_socket.close() "
   ]
  },
  {
   "cell_type": "markdown",
   "id": "236c775d-82f3-4fcf-91a0-3d6ed5ecc2d3",
   "metadata": {},
   "source": [
    "Paragraph"
   ]
  },
  {
   "cell_type": "code",
   "execution_count": null,
   "id": "d0d363ca-9015-4336-894d-95ca1ad46e14",
   "metadata": {},
   "outputs": [],
   "source": [
    "import socket \n",
    "import datetime\n",
    "client_socket = socket.socket(socket.AF_INET, socket.SOCK_STREAM) \n",
    "client_socket.connect(('localhost', 65432)) \n",
    "\n",
    "start = datetime.datetime.now()\n",
    "\n",
    "message = input(\"Enter message: \") \n",
    "client_socket.sendall(message.encode()) \n",
    "\n",
    "response = client_socket.recv(1024) \n",
    "print(f\"Server response: {response.decode()}\") \n",
    "\n",
    "#... (Client setup code) \n",
    "with open('file_to_send.txt', 'rb') as f: \n",
    "    client_socket.sendfile(f) \n",
    "\n",
    "end = datetime.datetime.now()\n",
    "\n",
    "time_taken = end - start\n",
    "print(f\"It took {time_taken} to send and recieve the data\")\n",
    "\n",
    "client_socket.close() "
   ]
  },
  {
   "cell_type": "markdown",
   "id": "305da195-0dc6-4f80-8e14-fa40f57020b2",
   "metadata": {},
   "source": [
    "Exercise 4 "
   ]
  },
  {
   "cell_type": "code",
   "execution_count": 1,
   "id": "ba532b22-b9af-4e9d-87b4-3c9fd52484bc",
   "metadata": {},
   "outputs": [
    {
     "name": "stdin",
     "output_type": "stream",
     "text": [
      "Enter message:  hello\n"
     ]
    },
    {
     "name": "stdout",
     "output_type": "stream",
     "text": [
      "Server response: ACK: hello\n",
      "It took 0:00:01.534050 to send and receive the data\n"
     ]
    }
   ],
   "source": [
    "import socket\n",
    "import datetime\n",
    "\n",
    "client_socket = socket.socket(socket.AF_INET, socket.SOCK_DGRAM)\n",
    "server_address = ('localhost', 65432)\n",
    "\n",
    "start = datetime.datetime.now()\n",
    "message = input(\"Enter message: \")\n",
    "client_socket.sendto(message.encode(), server_address)\n",
    "response, server = client_socket.recvfrom(1024)\n",
    "print(f\"Server response: {response.decode()}\")\n",
    "\n",
    "with open('UDP_file_to_send.txt', 'rb') as f:\n",
    "    while True:\n",
    "        file_data = f.read(1024) \n",
    "        if not file_data: \n",
    "            client_socket.sendto(b'', server_address)\n",
    "            break\n",
    "        client_socket.sendto(file_data, server_address) \n",
    "\n",
    "end = datetime.datetime.now()\n",
    "time_taken = end - start\n",
    "print(f\"It took {time_taken} to send and receive the data\")\n",
    "\n",
    "client_socket.close()"
   ]
  },
  {
   "cell_type": "code",
   "execution_count": null,
   "id": "c4e78a3c-78d4-477f-a8a2-6329164a788f",
   "metadata": {},
   "outputs": [],
   "source": []
  }
 ],
 "metadata": {
  "kernelspec": {
   "display_name": "Python 3 (ipykernel)",
   "language": "python",
   "name": "python3"
  },
  "language_info": {
   "codemirror_mode": {
    "name": "ipython",
    "version": 3
   },
   "file_extension": ".py",
   "mimetype": "text/x-python",
   "name": "python",
   "nbconvert_exporter": "python",
   "pygments_lexer": "ipython3",
   "version": "3.12.3"
  }
 },
 "nbformat": 4,
 "nbformat_minor": 5
}
