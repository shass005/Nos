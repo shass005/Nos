{
 "cells": [
  {
   "cell_type": "code",
   "execution_count": null,
   "id": "db14b246-7e17-4987-b683-5d0a30f41f57",
   "metadata": {},
   "outputs": [],
   "source": [
    "import socket \n",
    "import datetime\n",
    "client_socket = socket.socket(socket.AF_INET, socket.SOCK_STREAM) \n",
    "client_socket.connect(('localhost', 65433)) \n",
    "\n",
    "start = datetime.datetime.now()\n",
    "\n",
    "message = input(\"Enter message: \") \n",
    "client_socket.sendall(message.encode()) \n",
    "\n",
    "response = client_socket.recv(1024) \n",
    "print(f\"Server response: {response.decode()}\") \n",
    "\n",
    "#... (Client setup code) \n",
    "with open('Exercise_5_client2_file_to_send.txt', 'rb') as f: \n",
    "    client_socket.sendfile(f) \n",
    "\n",
    "end = datetime.datetime.now()\n",
    "\n",
    "time_taken = end - start\n",
    "print(f\"It took {time_taken} to send and recieve the data\")\n",
    "\n",
    "client_socket.close() "
   ]
  },
  {
   "cell_type": "code",
   "execution_count": null,
   "id": "2fdf8cfd-cbcb-4771-83e6-95ff0b22d8f3",
   "metadata": {},
   "outputs": [],
   "source": []
  }
 ],
 "metadata": {
  "kernelspec": {
   "display_name": "Python 3 (ipykernel)",
   "language": "python",
   "name": "python3"
  },
  "language_info": {
   "codemirror_mode": {
    "name": "ipython",
    "version": 3
   },
   "file_extension": ".py",
   "mimetype": "text/x-python",
   "name": "python",
   "nbconvert_exporter": "python",
   "pygments_lexer": "ipython3",
   "version": "3.12.3"
  }
 },
 "nbformat": 4,
 "nbformat_minor": 5
}
