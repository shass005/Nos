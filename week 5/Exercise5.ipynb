{
 "cells": [
  {
   "cell_type": "markdown",
   "id": "81c109ed-5585-44dc-8fe6-633f62b7bc60",
   "metadata": {},
   "source": [
    "Exercise 5"
   ]
  },
  {
   "cell_type": "code",
   "execution_count": null,
   "id": "63b2aad7-7ed5-4d7a-b9c5-874c5280ec98",
   "metadata": {},
   "outputs": [
    {
     "name": "stdout",
     "output_type": "stream",
     "text": [
      "TCP Server is listening...\n",
      "Connected to ('127.0.0.1', 57514)\n",
      "Connected to ('127.0.0.1', 57518)\n",
      "File received! and saved as('127.0.0.1', 57518)received_file.txt\n",
      "File received! and saved as('127.0.0.1', 57514)received_file.txt\n"
     ]
    }
   ],
   "source": [
    "import socket\n",
    "import threading\n",
    "\n",
    "def clients(client_socket, client_address):\n",
    "    data = client_socket.recv(1024)\n",
    "    client_socket.sendall(b\"ACK: \" + data) \n",
    "\n",
    "     # ... (Server setup code) \n",
    "    file = f\"{client_address}received_file.txt\"\n",
    "    with open(file, 'wb') as f: \n",
    "        while True: \n",
    "            data = client_socket.recv(1024) \n",
    "            if not data: \n",
    "                break \n",
    "            f.write(data) \n",
    "    print(f\"File received! and saved as{file}\") \n",
    "    \n",
    "    client_socket.close()\n",
    "    \n",
    "def server():\n",
    "    server_socket = socket.socket(socket.AF_INET, socket.SOCK_STREAM) \n",
    "    server_socket.bind(('localhost', 65433)) \n",
    "    server_socket.listen(3)  # Allow 1 pending connection \n",
    "    print(\"TCP Server is listening...\") \n",
    "\n",
    "    while True: \n",
    "        client_socket, client_address = server_socket.accept() \n",
    "        print(f\"Connected to {client_address}\") \n",
    "        client_thread = threading.Thread(target=clients, args=(client_socket, client_address))\n",
    "        client_thread.daemon = True \n",
    "        client_thread.start()\n",
    "server()"
   ]
  },
  {
   "cell_type": "markdown",
   "id": "2198de13-ecc9-47fb-a6db-ebf611661ab6",
   "metadata": {},
   "source": [
    "def server():\n",
    "    server_socket = socket.socket(socket.AF_INET, socket.SOCK_STREAM) \n",
    "    server_socket.bind(('localhost', 65432)) \n",
    "    server_socket.listen(3)  # Allow 1 pending connection \n",
    "    print(\"TCP Server is listening...\") \n",
    "\n",
    "    while True: \n",
    "        client_socket, client_address = server_socket.accept() \n",
    "        print(f\"Connected to {client_address}\") \n",
    "        client_thread = threading.Thread(target=clients, args=(client_socket, client_address))\n",
    "        client_thread.daemon = True \n",
    "        client_thread.start()"
   ]
  },
  {
   "cell_type": "code",
   "execution_count": null,
   "id": "e0509977-9dff-4bcc-965a-4e32fc16bd1d",
   "metadata": {},
   "outputs": [],
   "source": []
  }
 ],
 "metadata": {
  "kernelspec": {
   "display_name": "Python 3 (ipykernel)",
   "language": "python",
   "name": "python3"
  },
  "language_info": {
   "codemirror_mode": {
    "name": "ipython",
    "version": 3
   },
   "file_extension": ".py",
   "mimetype": "text/x-python",
   "name": "python",
   "nbconvert_exporter": "python",
   "pygments_lexer": "ipython3",
   "version": "3.12.3"
  }
 },
 "nbformat": 4,
 "nbformat_minor": 5
}
