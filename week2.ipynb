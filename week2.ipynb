{
 "cells": [
  {
   "cell_type": "markdown",
   "id": "4b4b71db-b367-4cb8-bea0-52bd82f010e0",
   "metadata": {},
   "source": [
    "Password Checker"
   ]
  },
  {
   "cell_type": "code",
   "execution_count": 8,
   "id": "68b9ed9a-ffa2-49a3-b930-e18e9e8bc50e",
   "metadata": {},
   "outputs": [
    {
     "name": "stdin",
     "output_type": "stream",
     "text": [
      "Enter Your Password fd\n"
     ]
    },
    {
     "name": "stdout",
     "output_type": "stream",
     "text": [
      "Password must contain at least 8 characters\n",
      "Password Must Contain At Least 1 Special Character\n",
      "Password Must Contain At Least 1 Upper Case Letter\n"
     ]
    }
   ],
   "source": [
    "import re\n",
    "def pass_str_checker():#\n",
    "    issues = []\n",
    "    password = input(\"Enter Your Password\")\n",
    "    if len(password)<8:\n",
    "     message1 = \"Password must contain at least 8 characters\"\n",
    "     issues.append(message1)  \n",
    "    if not re.search(r'[~></?\\!@#$,%]', password):\n",
    "     message2 = \"Password Must Contain At Least 1 Special Character\"\n",
    "     issues.append(message2)\n",
    "    if not re.search(r'[A-Z]', password):\n",
    "     message3 = \"Password Must Contain At Least 1 Upper Case Letter\"\n",
    "     issues.append(message3)\n",
    "    if not re.search(r'[a-z]', password):\n",
    "     message4 = \"Password Must Contain At Least 1 Lower Case Letter\"\n",
    "     issues.append(message4)\n",
    "    for x in issues:\n",
    "      print(x)\n",
    "pass_str_checker()\n"
   ]
  },
  {
   "cell_type": "markdown",
   "id": "001f9663-db62-4d4f-a9cd-1c77e379f529",
   "metadata": {},
   "source": [
    "Ceasars Cipher"
   ]
  },
  {
   "cell_type": "code",
   "execution_count": 10,
   "id": "70a4dc7a-2a90-4705-a3be-c23ef3dc029e",
   "metadata": {},
   "outputs": [
    {
     "name": "stdin",
     "output_type": "stream",
     "text": [
      "Enter The Message You Would Like To Encrypt hello\n",
      "Enter your Key 3\n"
     ]
    },
    {
     "name": "stdout",
     "output_type": "stream",
     "text": [
      "Your Encrypted Message is: khoor\n"
     ]
    }
   ],
   "source": [
    "def ceasers_cipher():\n",
    "    message = input(\"Enter The Message You Would Like To Encrypt\")\n",
    "    key = int(input(\"Enter your Key\"))\n",
    "    new_message = []\n",
    "    for letter in message:\n",
    "        character = ord(letter)\n",
    "        character = character + key\n",
    "        new_message.append(chr(character))\n",
    "    print (\"Your Encrypted Message is: \" + \"\".join(new_message))\n",
    "ceasers_cipher()"
   ]
  },
  {
   "cell_type": "markdown",
   "id": "816f3c16-21ff-4b45-ab1a-ec587dc1038c",
   "metadata": {},
   "source": [
    "Hangman"
   ]
  },
  {
   "cell_type": "code",
   "execution_count": 5,
   "id": "1b8cdd72-e835-47f2-ad99-2dc65c9116c1",
   "metadata": {},
   "outputs": [
    {
     "name": "stderr",
     "output_type": "stream",
     "text": [
      "[nltk_data] Downloading package words to\n",
      "[nltk_data]     C:\\Users\\sindi\\AppData\\Roaming\\nltk_data...\n",
      "[nltk_data]   Package words is already up-to-date!\n"
     ]
    },
    {
     "name": "stdout",
     "output_type": "stream",
     "text": [
      "['_', '_', '_', '_', '_', '_', '_', '_']\n"
     ]
    },
    {
     "name": "stdin",
     "output_type": "stream",
     "text": [
      "Enter a letter:  a\n"
     ]
    },
    {
     "name": "stdout",
     "output_type": "stream",
     "text": [
      "['_', '_', 'a', '_', 'a', '_', '_', '_']\n"
     ]
    },
    {
     "name": "stdin",
     "output_type": "stream",
     "text": [
      "Enter a letter:  d\n"
     ]
    },
    {
     "name": "stdout",
     "output_type": "stream",
     "text": [
      "Incorrect, you have 9 guesses left\n",
      "['_', '_', 'a', '_', 'a', '_', '_', '_']\n"
     ]
    },
    {
     "name": "stdin",
     "output_type": "stream",
     "text": [
      "Enter a letter:  f\n"
     ]
    },
    {
     "name": "stdout",
     "output_type": "stream",
     "text": [
      "Incorrect, you have 8 guesses left\n",
      "['_', '_', 'a', '_', 'a', '_', '_', '_']\n"
     ]
    },
    {
     "name": "stdin",
     "output_type": "stream",
     "text": [
      "Enter a letter:  v\n"
     ]
    },
    {
     "name": "stdout",
     "output_type": "stream",
     "text": [
      "Incorrect, you have 7 guesses left\n",
      "['_', '_', 'a', '_', 'a', '_', '_', '_']\n"
     ]
    },
    {
     "name": "stdin",
     "output_type": "stream",
     "text": [
      "Enter a letter:  s\n"
     ]
    },
    {
     "name": "stdout",
     "output_type": "stream",
     "text": [
      "['_', '_', 'a', '_', 'a', '_', '_', 's']\n"
     ]
    },
    {
     "name": "stdin",
     "output_type": "stream",
     "text": [
      "Enter a letter:  t\n"
     ]
    },
    {
     "name": "stdout",
     "output_type": "stream",
     "text": [
      "['_', '_', 'a', 't', 'a', '_', '_', 's']\n"
     ]
    },
    {
     "name": "stdin",
     "output_type": "stream",
     "text": [
      "Enter a letter:  u\n"
     ]
    },
    {
     "name": "stdout",
     "output_type": "stream",
     "text": [
      "['_', '_', 'a', 't', 'a', '_', 'u', 's']\n"
     ]
    },
    {
     "name": "stdin",
     "output_type": "stream",
     "text": [
      "Enter a letter:  o\n"
     ]
    },
    {
     "name": "stdout",
     "output_type": "stream",
     "text": [
      "Incorrect, you have 6 guesses left\n",
      "['_', '_', 'a', 't', 'a', '_', 'u', 's']\n"
     ]
    },
    {
     "name": "stdin",
     "output_type": "stream",
     "text": [
      "Enter a letter:  l\n"
     ]
    },
    {
     "name": "stdout",
     "output_type": "stream",
     "text": [
      "['_', 'l', 'a', 't', 'a', '_', 'u', 's']\n"
     ]
    },
    {
     "name": "stdin",
     "output_type": "stream",
     "text": [
      "Enter a letter:  m\n"
     ]
    },
    {
     "name": "stdout",
     "output_type": "stream",
     "text": [
      "Incorrect, you have 5 guesses left\n",
      "['_', 'l', 'a', 't', 'a', '_', 'u', 's']\n"
     ]
    },
    {
     "name": "stdin",
     "output_type": "stream",
     "text": [
      "Enter a letter:  b\n"
     ]
    },
    {
     "name": "stdout",
     "output_type": "stream",
     "text": [
      "Incorrect, you have 4 guesses left\n",
      "['_', 'l', 'a', 't', 'a', '_', 'u', 's']\n"
     ]
    },
    {
     "name": "stdin",
     "output_type": "stream",
     "text": [
      "Enter a letter:  q\n"
     ]
    },
    {
     "name": "stdout",
     "output_type": "stream",
     "text": [
      "Incorrect, you have 3 guesses left\n",
      "['_', 'l', 'a', 't', 'a', '_', 'u', 's']\n"
     ]
    },
    {
     "name": "stdin",
     "output_type": "stream",
     "text": [
      "Enter a letter:  q\n"
     ]
    },
    {
     "name": "stdout",
     "output_type": "stream",
     "text": [
      "Already Guess q\n",
      "Incorrect, you have 2 guesses left\n",
      "['_', 'l', 'a', 't', 'a', '_', 'u', 's']\n"
     ]
    },
    {
     "name": "stdin",
     "output_type": "stream",
     "text": [
      "Enter a letter:  a\n"
     ]
    },
    {
     "name": "stdout",
     "output_type": "stream",
     "text": [
      "Already Guess a\n",
      "['_', 'l', 'a', 't', 'a', '_', 'u', 's']\n"
     ]
    },
    {
     "name": "stdin",
     "output_type": "stream",
     "text": [
      "Enter a letter:  m\n"
     ]
    },
    {
     "name": "stdout",
     "output_type": "stream",
     "text": [
      "Already Guess m\n",
      "Incorrect, you have 1 guesses left\n",
      "['_', 'l', 'a', 't', 'a', '_', 'u', 's']\n"
     ]
    },
    {
     "name": "stdin",
     "output_type": "stream",
     "text": [
      "Enter a letter:  n\n"
     ]
    },
    {
     "name": "stdout",
     "output_type": "stream",
     "text": [
      "['_', 'l', 'a', 't', 'a', 'n', 'u', 's']\n"
     ]
    },
    {
     "name": "stdin",
     "output_type": "stream",
     "text": [
      "Enter a letter:  v\n"
     ]
    },
    {
     "name": "stdout",
     "output_type": "stream",
     "text": [
      "Already Guess v\n",
      "Incorrect, you have 0 guesses left\n",
      "You Lose. The word was platanus\n"
     ]
    }
   ],
   "source": [
    "import nltk\n",
    "from nltk.corpus import words\n",
    "import random\n",
    "\n",
    "def hangman():\n",
    "    nltk.download('words')\n",
    "    words_list = words.words\n",
    "    word = random.choice(words_list()).lower()\n",
    "    max_guess = 10\n",
    "    spaces = [\"_\" for i in word]\n",
    "    letter_array = []\n",
    "    guesses = 0\n",
    "\n",
    "    while guesses<max_guess:\n",
    "        print(spaces)\n",
    "        guess = input(\"Enter a letter: \").lower()\n",
    "        if len(guess) < 1 or len(guess) > 1:\n",
    "            print(\"Error: Enter a single letter\")\n",
    "            continue\n",
    "        if guess in letter_array:\n",
    "            print(f\"Already Guess {guess}\")\n",
    "        letter_array.append(guess)\n",
    "        if guess in word:\n",
    "            for i in range(len(word)):\n",
    "                if word[i] == guess:\n",
    "                    spaces[i] = guess  # Replace the underscore with the guessed letter\n",
    "                    \n",
    "            if \"_\" not in spaces:\n",
    "                print(f\"You win, the word is {word}\")\n",
    "        else:\n",
    "            guesses += 1\n",
    "            print(f\"Incorrect, you have {max_guess - guesses} guesses left\")\n",
    "    print(f\"You Lose. The word was {word}\")\n",
    "    \n",
    "hangman()            "
   ]
  },
  {
   "cell_type": "code",
   "execution_count": null,
   "id": "7c4315eb-dbf5-485e-8b78-5110c18dc8a7",
   "metadata": {},
   "outputs": [],
   "source": []
  }
 ],
 "metadata": {
  "kernelspec": {
   "display_name": "Python 3 (ipykernel)",
   "language": "python",
   "name": "python3"
  },
  "language_info": {
   "codemirror_mode": {
    "name": "ipython",
    "version": 3
   },
   "file_extension": ".py",
   "mimetype": "text/x-python",
   "name": "python",
   "nbconvert_exporter": "python",
   "pygments_lexer": "ipython3",
   "version": "3.12.3"
  }
 },
 "nbformat": 4,
 "nbformat_minor": 5
}
